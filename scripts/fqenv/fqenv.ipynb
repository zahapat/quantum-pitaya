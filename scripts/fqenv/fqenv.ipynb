{
 "cells": [
  {
   "cell_type": "code",
   "execution_count": 1,
   "metadata": {},
   "outputs": [
    {
     "name": "stdout",
     "output_type": "stream",
     "text": [
      "PY: INFO: running command  make reset PART=xc7z010clg400-1\n",
      "WARNING: [Vivado 12-818] No files matched '*'\n",
      "WARNING: [Vivado 12-818] No files matched '*'\n",
      "WARNING: [Vivado 12-818] No files matched '*'\n",
      "WARNING: [Vivado 12-818] No files matched '*'\n",
      "INFO: [Common 17-206] Exiting Vivado at Thu Jul 13 20:10:00 2023...\n",
      "WARNING: [filemgmt 56-3] Default IP Output Path : Could not find the directory 'c:/Git/zahapat/FQEnv/vivado/FQEnv.gen/sources_1'.\n",
      "WARNING: [Vivado 12-818] No files matched '*'\n",
      "WARNING: [Vivado 12-818] No files matched '*'\n",
      "WARNING: [Vivado 12-818] No files matched '*'\n",
      "WARNING: [Vivado 12-818] No files matched '*'\n",
      "WARNING: [Vivado 12-818] No files matched '*'\n",
      "CRITICAL WARNING: [filemgmt 20-730] Could not find a top module in the fileset sources_1.\n",
      "WARNING: [Vivado 12-818] No files matched '*'\n",
      "WARNING: [Vivado 12-818] No files matched '*'\n",
      "WARNING: [Vivado 12-818] No files matched '*'\n",
      "WARNING: [Vivado 12-818] No files matched '*'\n",
      "INFO: [Common 17-206] Exiting Vivado at Thu Jul 13 20:10:07 2023...\n",
      "b\"rm: cannot remove '*.str': No such file or directory\n",
      "rm: cannot remove '*.str': No such file or directory\n",
      "rm: cannot remove '*.tmp': No such file or directory\n",
      "\"\n"
     ]
    }
   ],
   "source": [
    "# Import FQEnv environment and libraries\n",
    "from fqenv import FQEnv\n",
    "\n",
    "\n",
    "# Initialize the environment\n",
    "fqenv = FQEnv()\n",
    "fqenv.reset(\n",
    "    verbose = True, \n",
    "    substrings = [\"INFO:\", \"WARNING:\", \"ERROR:\"],\n",
    "    part = \"xc7z010clg400-1\" # Xilinx Zynq 7010 SoC\n",
    ")"
   ]
  },
  {
   "cell_type": "code",
   "execution_count": 3,
   "metadata": {},
   "outputs": [
    {
     "name": "stdout",
     "output_type": "stream",
     "text": [
      "PY: INFO: running command  make src TOP=top_redpitaya_daq.sv\n",
      "TCL: Running make_src.tcl for project FQEnv.\n",
      "TCL: Get TCL Command-line arguments\n",
      "TCL: Argument 1 topFile: \\'top_redpitaya_daq.sv\\'\n",
      "TCL: Argument 2 lowercase file_library_src: \\'lib_src\\'\n",
      "TCL: Argument 3 lowercase file_library_sim: \\'lib_sim\\'\n",
      "TCL: OPENING PROJECT FQEnv\n",
      "TCL: Remove all source files in object all filesets\n",
      "TCL: Find missing sources to compile the new temp top module and report compile order \n",
      "TCL: Searching for module: top_redpitaya_daq.sv\n",
      "TCL: abs_path_to_topFile = C:/Git/zahapat/FQEnv/modules/top_redpitaya_daq/hdl\n",
      "TCL: Adding sources of: ./modules/top_redpitaya_daq\n",
      "TCL: path_to_topfile = C:/Git/zahapat/FQEnv/modules/top_redpitaya_daq/hdl/\n",
      "TCL: New TOP file reported after update_compile_order: axi4lite_fifo_readout_wrapper\n",
      "TCL: Path to the new Top module: C:/Git/zahapat/FQEnv/modules/top_redpitaya_daq/hdl/top_redpitaya_daq.sv\n",
      "TCL: Target language = SystemVerilog (=Verilog)\n",
      "TCL: Exporting missing modules in design here: ./vivado/0_report_modules_missing.rpt\n",
      "TCL: ===== ADDING MISSING MODULES =====\n",
      "TCL: Searching for module name: clock_synthesizer\n",
      "TCL: Searching for module: clock_synthesizer.vhd\n",
      "TCL: Module clock_synthesizer.vhd not found; searching for clock_synthesizer.sv file. \n",
      "TCL: Module clock_synthesizer.sv not found; searching for clock_synthesizer.v file. \n",
      "TCL: abs_path_to_filedir = C:/Git/zahapat/FQEnv/modules/clock_synthesizer/hdl\n",
      "TCL: Adding sources of: ./modules/clock_synthesizer\n",
      "TCL: Searching for module name: adc_read\n",
      "TCL: Searching for module: adc_read.vhd\n",
      "TCL: Module adc_read.vhd not found; searching for adc_read.sv file. \n",
      "TCL: Module adc_read.sv not found; searching for adc_read.v file. \n",
      "TCL: abs_path_to_filedir = C:/Git/zahapat/FQEnv/modules/adc_read/hdl\n",
      "TCL: Adding sources of: ./modules/adc_read\n",
      "TCL: Searching for module name: adc_read\n",
      "TCL: Searching for module: adc_read.vhd\n",
      "TCL: Module adc_read.vhd not found; searching for adc_read.sv file. \n",
      "TCL: Module adc_read.sv not found; searching for adc_read.v file. \n",
      "TCL: abs_path_to_filedir = C:/Git/zahapat/FQEnv/modules/adc_read/hdl\n",
      "TCL: Adding sources of: ./modules/adc_read\n",
      "TCL: Searching for module name: dsp_path\n",
      "TCL: Searching for module: dsp_path.vhd\n",
      "TCL: Module dsp_path.vhd not found; searching for dsp_path.sv file. \n",
      "TCL: abs_path_to_filedir = C:/Git/zahapat/FQEnv/modules/dsp_path/hdl\n",
      "TCL: Adding sources of: ./modules/dsp_path\n",
      "TCL: Searching for module name: fifo_cdcc\n",
      "TCL: Searching for module: fifo_cdcc.vhd\n",
      "TCL: Module fifo_cdcc.vhd not found; searching for fifo_cdcc.sv file. \n",
      "TCL: Module fifo_cdcc.sv not found; searching for fifo_cdcc.v file. \n",
      "TCL: abs_path_to_filedir = C:/Git/zahapat/FQEnv/modules/fifo_cdcc/hdl\n",
      "TCL: Adding sources of: ./modules/fifo_cdcc\n",
      "TCL: Searching for module name: fifo_cdcc\n",
      "TCL: Searching for module: fifo_cdcc.vhd\n",
      "TCL: Module fifo_cdcc.vhd not found; searching for fifo_cdcc.sv file. \n",
      "TCL: Module fifo_cdcc.sv not found; searching for fifo_cdcc.v file. \n",
      "TCL: abs_path_to_filedir = C:/Git/zahapat/FQEnv/modules/fifo_cdcc/hdl\n",
      "TCL: Adding sources of: ./modules/fifo_cdcc\n",
      "TCL: Searching for module name: dac_dual_iq\n",
      "TCL: Searching for module: dac_dual_iq.vhd\n",
      "TCL: Module dac_dual_iq.vhd not found; searching for dac_dual_iq.sv file. \n",
      "TCL: abs_path_to_filedir = C:/Git/zahapat/FQEnv/modules/dac_dual_iq/hdl\n",
      "TCL: Adding sources of: ./modules/dac_dual_iq\n",
      "TCL: Design hierarchy is complete. DONE!\n",
      "TCL: Let vivado choose the correct TOP module\n",
      "TCL: All sources under TOP=top_redpitaya_daq.sv have been added. \n",
      "TCL: Running make_src.tcl for project FQEnv COMPLETED SUCCESSFULLY. \n",
      "b''\n"
     ]
    }
   ],
   "source": [
    "# Name of the top file of the project\n",
    "# All subfiles will be added automatically\n",
    "from fqenv import FQEnv\n",
    "fqenv = FQEnv()\n",
    "fqenv.src(\n",
    "    verbose = True, \n",
    "    substrings = [\"TCL:\", \"ERROR:\"],\n",
    "    top = \"top_redpitaya_125_14.sv\" # Necessary to specify top module to add all source files in the hierarchy\n",
    ")"
   ]
  },
  {
   "cell_type": "code",
   "execution_count": 4,
   "metadata": {},
   "outputs": [
    {
     "name": "stdout",
     "output_type": "stream",
     "text": [
      "PY: INFO: running command  make board BOARD=redpitaya_stream_z10\n",
      "TCL: Running make_board.tcl for project FQEnv.\n",
      "TCL: Get TCL Command-line arguments\n",
      "TCL: arg1 = redpitaya_stream_z10\n",
      "TCL: Reading file: C:/Git/zahapat/FQEnv/boards/xc7z010clg400-1/redpitaya_stream_z10/redpitaya_stream_z10.tcl\n",
      "TCL: file_full_name = redpitaya_stream_z10_wrapper.v\n",
      "TCL: Sorting source file to fileset \"sources_1\": C:/Git/zahapat/FQEnv/boards/xc7z010clg400-1/redpitaya_stream_z10/redpitaya_stream_z10/hdl/redpitaya_stream_z10_wrapper.v\n",
      "TCL: Running make_board.tcl for project FQEnv COMPLETED SUCCESSFULLY. \n",
      "b''\n"
     ]
    }
   ],
   "source": [
    "# Name of the board file\n",
    "# All subfiles will be added automatically\n",
    "from fqenv import FQEnv\n",
    "fqenv = FQEnv()\n",
    "fqenv.board(\n",
    "    verbose = True, \n",
    "    substrings = [\"TCL:\", \"ERROR:\"],\n",
    "    board = \"sqdlab_redpitaya_125_14_extclk\" # Necessary to load the system design\n",
    ")"
   ]
  },
  {
   "cell_type": "code",
   "execution_count": 5,
   "metadata": {},
   "outputs": [
    {
     "name": "stdout",
     "output_type": "stream",
     "text": [
      "PY: Generic 0: INT_BYPASS_DSP = 0\n",
      "PY: Generic 1: INT_WHOLE_DDC_LOCOSC_OUT_FREQ_MHZ = 25\n",
      "PY: Generic 2: INT_DECIMAL_DDC_LOCOSC_OUT_FREQ_MHZ = 0\n",
      "PY: Generic 3: INT_DDC_NUMBER_OF_TAPS = 15\n",
      "PY: Generic 4: INT_DDC_COEF_WIDTH = 15\n",
      "PY: Generic 5: INT_DDC_OUT_DATA_WIDTH = 20\n",
      "PY: Generic 6: INT_DDC_DECIMATION = 5\n",
      "PY: Generic 7: INT_AVG_AVERAGE_BY = 5\n",
      "PY: INFO: running command  make generics GEN1_NAME=INT_BYPASS_DSP GEN1_VAL=0 GEN2_NAME=INT_WHOLE_DDC_LOCOSC_OUT_FREQ_MHZ GEN2_VAL=25 GEN3_NAME=INT_DECIMAL_DDC_LOCOSC_OUT_FREQ_MHZ GEN3_VAL=0 GEN4_NAME=INT_DDC_NUMBER_OF_TAPS GEN4_VAL=15 GEN5_NAME=INT_DDC_COEF_WIDTH GEN5_VAL=15 GEN6_NAME=INT_DDC_OUT_DATA_WIDTH GEN6_VAL=20 GEN7_NAME=INT_DDC_DECIMATION GEN7_VAL=5 GEN8_NAME=INT_AVG_AVERAGE_BY GEN8_VAL=5 \n",
      "PY: Command-line arguments list:  ['--generic1_name=INT_BYPASS_DSP', '--generic1_val=0', '--generic2_name=INT_WHOLE_DDC_LOCOSC_OUT_FREQ_MHZ', '--generic2_val=25', '--generic3_name=INT_DECIMAL_DDC_LOCOSC_OUT_FREQ_MHZ', '--generic3_val=0', '--generic4_name=INT_DDC_NUMBER_OF_TAPS', '--generic4_val=15', '--generic5_name=INT_DDC_COEF_WIDTH', '--generic5_val=15', '--generic6_name=INT_DDC_OUT_DATA_WIDTH', '--generic6_val=20', '--generic7_name=INT_DDC_DECIMATION', '--generic7_val=5', '--generic8_name=INT_AVG_AVERAGE_BY', '--generic8_val=5', '--generic9_name=', '--generic9_val=', '--generic10_name=', '--generic10_val=', '--generic11_name=', '--generic11_val=', '--generic12_name=', '--generic12_val=', '--generic13_name=', '--generic13_val=', '--generic14_name=', '--generic14_val=', '--generic15_name=', '--generic15_val=', '--proj_name=FQEnv', '--proj_dir=c:/Git/zahapat/FQEnv/', '--output_dir=c:/Git/zahapat/FQEnv/modules/top_redpitaya_daq/hdl']\n",
      "PY: Number of command-line arguments:  33\n",
      "PY: proj_name:  FQEnv\n",
      "PY: Project root directory:  c:/Git/zahapat/FQEnv/\n",
      "PY: Output directory:  c:/Git/zahapat/FQEnv/modules/top_redpitaya_daq/hdl\n",
      "PY: Directory ' c:/Git/zahapat/FQEnv/modules/top_redpitaya_daq/hdl ' already exist.\n",
      "b''\n"
     ]
    }
   ],
   "source": [
    "# Define the default design-specific generic parameters to generate custom hardware\n",
    "# Values of these parameters can be modified later\n",
    "\n",
    "# [Natural Number] Bypass the DSP block (read only data from ADC)\n",
    "GEN1_NAME = \"INT_BYPASS_DSP\"\n",
    "GEN1_VAL = 0\n",
    "\n",
    "# [Natural Number] Sampling/Clock frequency the local oscillator is running on\n",
    "GEN2_NAME = \"INT_WHOLE_DDC_LOCOSC_OUT_FREQ_MHZ\"\n",
    "GEN2_VAL = 25\n",
    "GEN3_NAME = \"INT_DECIMAL_DDC_LOCOSC_OUT_FREQ_MHZ\"\n",
    "GEN3_VAL = 0\n",
    "\n",
    "# [Natural Number] Number of FIR Taps\n",
    "GEN4_NAME = \"INT_DDC_NUMBER_OF_TAPS\"\n",
    "GEN4_VAL = 15\n",
    "\n",
    "# [Natural Number] Width of each FIR coefficient\n",
    "GEN5_NAME = \"INT_DDC_COEF_WIDTH\"\n",
    "GEN5_VAL = 15\n",
    "\n",
    "# [Natural Number] Output data width of the digital downconversion module\n",
    "GEN6_NAME = \"INT_DDC_OUT_DATA_WIDTH\"\n",
    "GEN6_VAL = 20\n",
    "\n",
    "# [Natural Number] The sampling decimation value\n",
    "GEN7_NAME = \"INT_DDC_DECIMATION\"\n",
    "GEN7_VAL = 5\n",
    "\n",
    "# [Natural Number] How many data points are to be accumulated/averaged\n",
    "GEN8_NAME = \"INT_AVG_MAX_AVERAGE_BY\"\n",
    "GEN8_VAL = 5\n",
    "\n",
    "GEN9_NAME = \"INT_MULTIACC_FIFO_DEPTH\"\n",
    "GEN9_VAL = 1024\n",
    "\n",
    "# \t  [Positive Number] Set the number of channels of the multichannel fifo/accumulator\n",
    "GEN10_NAME = \"INT_MULTIACC_CHANNELS\"\n",
    "GEN10_VAL = 10\n",
    "\n",
    "# \t  [Positive Number] Set the number of accumulation repetitions per channel\n",
    "GEN11_NAME = \"INT_MULTIACC_REPETITIONS\"\n",
    "GEN11_VAL = 15\n",
    "\n",
    "# \t  [Positive Number] Set the number of bits for a command (Channel write 1)\n",
    "GEN12_NAME = \"INT_CMD_OUTPUT_WIDTH\"\n",
    "GEN12_VAL = 5\n",
    "\n",
    "# \t  [Positive Number] Set the number of bits for module select in a single 32b transaction\n",
    "GEN13_NAME = \"INT_MODULE_SELECT_WIDTH\"\n",
    "GEN13_VAL = 5\n",
    "\n",
    "# \t  [Positive Number] Configure the message to the Command Parser: Set the number bits for the module select\n",
    "GEN14_NAME = \"INT_MODULES_CMD_CNT\"\n",
    "GEN14_VAL = 13\n",
    "\n",
    "# \t  [Positive Number] Set the number of bits for module select in a single 32b transaction\n",
    "GEN15_NAME = \"INT_OUT_FIFO_BUFFERS_DEPTH\"\n",
    "GEN15_VAL = 1024\n",
    "\n",
    "\n",
    "# Pass/update these generic parameters to the design\n",
    "from fqenv import FQEnv\n",
    "fqenv = FQEnv()\n",
    "fqenv.generics(\n",
    "    verbose = True, \n",
    "    substrings = [\"PY:\"],\n",
    "    generic_names = [GEN1_NAME, GEN2_NAME, GEN3_NAME, GEN4_NAME, \n",
    "                     GEN5_NAME, GEN6_NAME, GEN7_NAME, GEN8_NAME,\n",
    "                     GEN9_NAME, GEN10_NAME, GEN11_NAME, GEN12_NAME,\n",
    "                     GEN13_NAME, GEN14_NAME, GEN15_NAME],  # Necessary\n",
    "    generic_vals  = [GEN1_VAL, GEN2_VAL, GEN3_VAL, GEN4_VAL,\n",
    "                     GEN5_VAL, GEN6_VAL, GEN7_VAL, GEN8_VAL,\n",
    "                     GEN9_VAL, GEN10_VAL, GEN11_VAL, GEN12_VAL,\n",
    "                     GEN13_VAL, GEN14_VAL, GEN15_VAL]\n",
    ")"
   ]
  },
  {
   "cell_type": "code",
   "execution_count": 6,
   "metadata": {},
   "outputs": [
    {
     "name": "stdout",
     "output_type": "stream",
     "text": [
      "PY: INFO: running command  make synth \n",
      "TCL: Running synth_design.tcl for project FQEnv.\n",
      "TCL: OPENING PROJECT FQEnv\n",
      "TCL: Update and report compile order \n",
      "TCL: Set Strategy for Synthesis \n",
      "TCL: Get verbose reports about IP status \n",
      "TCL: Running Synthesis. \n",
      "TCL: Get verbose reports about what may affect timing analysis \n",
      "TCL: Running synth_design.tcl for project FQEnv COMPLETED SUCCESSFULLY. \n",
      "b''\n"
     ]
    }
   ],
   "source": [
    "# Run synthesis\n",
    "from fqenv import FQEnv\n",
    "fqenv = FQEnv()\n",
    "fqenv.synth(\n",
    "    verbose = True, \n",
    "    substrings = [\"TCL:\", \"ERROR:\"]\n",
    ")"
   ]
  },
  {
   "cell_type": "code",
   "execution_count": 7,
   "metadata": {},
   "outputs": [
    {
     "name": "stdout",
     "output_type": "stream",
     "text": [
      "PY: INFO: running command  make impl \n",
      "TCL: Running impl_design.tcl for project FQEnv.\n",
      "TCL: Synthesis is up-to-date. Continue to run Implementation. \n",
      "TCL: Implementation is out-of-date. Run Implementation. \n",
      "TCL: Get verbose reports about what may affect timing analysis \n",
      "TCL: Running impl_design.tcl for project FQEnv COMPLETED SUCCESSFULLY. \n",
      "b''\n"
     ]
    }
   ],
   "source": [
    "# Run implementation\n",
    "from fqenv import FQEnv\n",
    "fqenv = FQEnv()\n",
    "fqenv.impl(\n",
    "    verbose = True, \n",
    "    substrings = [\"TCL:\", \"ERROR:\"]\n",
    ")"
   ]
  },
  {
   "cell_type": "code",
   "execution_count": 8,
   "metadata": {},
   "outputs": [
    {
     "name": "stdout",
     "output_type": "stream",
     "text": [
      "PY: INFO: running command  make bit \n",
      "TCL: Running run_bitstream.tcl for project FQEnv.\n",
      "TCL: constrs = c:/Git/zahapat/FQEnv/modules/top_redpitaya_daq/top_redpitaya_daq.xdc c:/Git/zahapat/FQEnv/boards/xc7z010clg400-1/redpitaya_stream_z10/redpitaya_stream_z10.xdc\n",
      "TCL: Unable to generate Hardware Platform for Vitis. The project does not contain modules for Vitis project.\n",
      "TCL: Running run_bitstream.tcl for project FQEnv COMPLETED SUCCESSFULLY. \n",
      "b''\n"
     ]
    }
   ],
   "source": [
    "# Generate programming file (bitstream)\n",
    "from fqenv import FQEnv\n",
    "fqenv = FQEnv()\n",
    "fqenv.bit(\n",
    "    verbose = True, \n",
    "    substrings = [\"TCL:\", \"ERROR:\"]\n",
    ")"
   ]
  }
 ],
 "metadata": {
  "kernelspec": {
   "display_name": "Python 3",
   "language": "python",
   "name": "python3"
  },
  "language_info": {
   "codemirror_mode": {
    "name": "ipython",
    "version": 3
   },
   "file_extension": ".py",
   "mimetype": "text/x-python",
   "name": "python",
   "nbconvert_exporter": "python",
   "pygments_lexer": "ipython3",
   "version": "3.10.8"
  },
  "orig_nbformat": 4
 },
 "nbformat": 4,
 "nbformat_minor": 2
}
